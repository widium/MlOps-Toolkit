{
 "cells": [
  {
   "cell_type": "code",
   "execution_count": null,
   "metadata": {},
   "outputs": [],
   "source": [
    "from app.hugging_face import HuggingFaceRepositoryCreator\n",
    "\n",
    "token = \"*****************\" ## Write Token mandatory\n",
    "creator = HuggingFaceRepositoryCreator(api_token=token)\n",
    "repo_name = \"repo-test\"\n",
    "\n",
    "creator.create_repository(\n",
    "    repo_name=repo_name,\n",
    "    destination=\"app_2/frontend/\"\n",
    ")"
   ]
  }
 ],
 "metadata": {
  "language_info": {
   "name": "python"
  },
  "orig_nbformat": 4
 },
 "nbformat": 4,
 "nbformat_minor": 2
}
