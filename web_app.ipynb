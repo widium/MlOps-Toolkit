{
 "cells": [
  {
   "cell_type": "code",
   "execution_count": 57,
   "metadata": {},
   "outputs": [
    {
     "name": "stdout",
     "output_type": "stream",
     "text": [
      "[INFO] : Successfully Logged in Hugging Face Hub.\n"
     ]
    },
    {
     "name": "stderr",
     "output_type": "stream",
     "text": [
      "Cloning https://huggingface.co/spaces/Widium/repo-test into local empty directory.\n"
     ]
    },
    {
     "name": "stdout",
     "output_type": "stream",
     "text": [
      "[INFO] : Repository Successfully Created in Hugging Face Hub [https://huggingface.co/spaces/Widium/repo-test].\n",
      "[INFO] : Repository Successfully Cloned in [app_2/frontend/repo-test].\n",
      "[INFO] : create [app_2/frontend/repo-test/app.py 'with content', app_2/frontend/repo-test/requirements.txt, app_2/frontend/repo-test/README.md, app_2/frontend/repo-test/examples].\n"
     ]
    },
    {
     "name": "stderr",
     "output_type": "stream",
     "text": [
      "To https://huggingface.co/spaces/Widium/repo-test\n",
      "   6005c8f..d7c9697  main -> main\n",
      "\n"
     ]
    },
    {
     "name": "stdout",
     "output_type": "stream",
     "text": [
      "[INFO] : First Commit Successfully Initialized.\n"
     ]
    },
    {
     "data": {
      "text/plain": [
       "<huggingface_hub.repository.Repository at 0x7f9ec32f6070>"
      ]
     },
     "execution_count": 57,
     "metadata": {},
     "output_type": "execute_result"
    }
   ],
   "source": [
    "from app.hugging_face import HuggingFaceRepositoryCreator\n",
    "\n",
    "token = \"******************\" ## Write Token mandatory\n",
    "manager = HuggingFaceRepositoryCreator(api_token=token)\n",
    "repo_name = \"repo-test\"\n",
    "\n",
    "repository = manager.create_repository(\n",
    "    repo_name=repo_name,\n",
    "    destination=\"app_2/frontend/\"\n",
    ")\n"
   ]
  }
 ],
 "metadata": {
  "kernelspec": {
   "display_name": "tf_gpu",
   "language": "python",
   "name": "python3"
  },
  "language_info": {
   "codemirror_mode": {
    "name": "ipython",
    "version": 3
   },
   "file_extension": ".py",
   "mimetype": "text/x-python",
   "name": "python",
   "nbconvert_exporter": "python",
   "pygments_lexer": "ipython3",
   "version": "3.8.0"
  },
  "orig_nbformat": 4
 },
 "nbformat": 4,
 "nbformat_minor": 2
}
